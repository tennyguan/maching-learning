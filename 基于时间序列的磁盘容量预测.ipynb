{
 "cells": [
  {
   "cell_type": "code",
   "execution_count": 64,
   "metadata": {},
   "outputs": [],
   "source": [
    "import pandas as pd\n",
    "import warnings\n",
    "warnings.filterwarnings(\"ignore\")#忽视所有warning"
   ]
  },
  {
   "cell_type": "code",
   "execution_count": 65,
   "metadata": {},
   "outputs": [],
   "source": [
    "dis_data=pd.read_excel('demo/data/discdata.xls',encoding='gbk')"
   ]
  },
  {
   "cell_type": "code",
   "execution_count": 3,
   "metadata": {},
   "outputs": [
    {
     "data": {
      "text/html": [
       "<div>\n",
       "<style scoped>\n",
       "    .dataframe tbody tr th:only-of-type {\n",
       "        vertical-align: middle;\n",
       "    }\n",
       "\n",
       "    .dataframe tbody tr th {\n",
       "        vertical-align: top;\n",
       "    }\n",
       "\n",
       "    .dataframe thead th {\n",
       "        text-align: right;\n",
       "    }\n",
       "</style>\n",
       "<table border=\"1\" class=\"dataframe\">\n",
       "  <thead>\n",
       "    <tr style=\"text-align: right;\">\n",
       "      <th></th>\n",
       "      <th>SYS_NAME</th>\n",
       "      <th>NAME</th>\n",
       "      <th>TARGET_ID</th>\n",
       "      <th>DESCRIPTION</th>\n",
       "      <th>ENTITY</th>\n",
       "      <th>VALUE</th>\n",
       "      <th>COLLECTTIME</th>\n",
       "    </tr>\n",
       "  </thead>\n",
       "  <tbody>\n",
       "    <tr>\n",
       "      <th>0</th>\n",
       "      <td>财务管理系统</td>\n",
       "      <td>CWXT_DB</td>\n",
       "      <td>184</td>\n",
       "      <td>磁盘已使用大小</td>\n",
       "      <td>C:\\</td>\n",
       "      <td>3.427079e+07</td>\n",
       "      <td>2014-10-01</td>\n",
       "    </tr>\n",
       "    <tr>\n",
       "      <th>1</th>\n",
       "      <td>财务管理系统</td>\n",
       "      <td>CWXT_DB</td>\n",
       "      <td>184</td>\n",
       "      <td>磁盘已使用大小</td>\n",
       "      <td>D:\\</td>\n",
       "      <td>8.026259e+07</td>\n",
       "      <td>2014-10-01</td>\n",
       "    </tr>\n",
       "    <tr>\n",
       "      <th>2</th>\n",
       "      <td>财务管理系统</td>\n",
       "      <td>CWXT_DB</td>\n",
       "      <td>183</td>\n",
       "      <td>磁盘容量</td>\n",
       "      <td>C:\\</td>\n",
       "      <td>5.232332e+07</td>\n",
       "      <td>2014-10-01</td>\n",
       "    </tr>\n",
       "    <tr>\n",
       "      <th>3</th>\n",
       "      <td>财务管理系统</td>\n",
       "      <td>CWXT_DB</td>\n",
       "      <td>183</td>\n",
       "      <td>磁盘容量</td>\n",
       "      <td>D:\\</td>\n",
       "      <td>1.572833e+08</td>\n",
       "      <td>2014-10-01</td>\n",
       "    </tr>\n",
       "    <tr>\n",
       "      <th>4</th>\n",
       "      <td>财务管理系统</td>\n",
       "      <td>CWXT_DB</td>\n",
       "      <td>184</td>\n",
       "      <td>磁盘已使用大小</td>\n",
       "      <td>C:\\</td>\n",
       "      <td>3.432890e+07</td>\n",
       "      <td>2014-10-02</td>\n",
       "    </tr>\n",
       "  </tbody>\n",
       "</table>\n",
       "</div>"
      ],
      "text/plain": [
       "  SYS_NAME     NAME  TARGET_ID DESCRIPTION ENTITY         VALUE COLLECTTIME\n",
       "0   财务管理系统  CWXT_DB        184     磁盘已使用大小    C:\\  3.427079e+07  2014-10-01\n",
       "1   财务管理系统  CWXT_DB        184     磁盘已使用大小    D:\\  8.026259e+07  2014-10-01\n",
       "2   财务管理系统  CWXT_DB        183        磁盘容量    C:\\  5.232332e+07  2014-10-01\n",
       "3   财务管理系统  CWXT_DB        183        磁盘容量    D:\\  1.572833e+08  2014-10-01\n",
       "4   财务管理系统  CWXT_DB        184     磁盘已使用大小    C:\\  3.432890e+07  2014-10-02"
      ]
     },
     "execution_count": 3,
     "metadata": {},
     "output_type": "execute_result"
    }
   ],
   "source": [
    "dis_data.head()"
   ]
  },
  {
   "cell_type": "code",
   "execution_count": 6,
   "metadata": {},
   "outputs": [
    {
     "data": {
      "text/html": [
       "<div>\n",
       "<style scoped>\n",
       "    .dataframe tbody tr th:only-of-type {\n",
       "        vertical-align: middle;\n",
       "    }\n",
       "\n",
       "    .dataframe tbody tr th {\n",
       "        vertical-align: top;\n",
       "    }\n",
       "\n",
       "    .dataframe thead th {\n",
       "        text-align: right;\n",
       "    }\n",
       "</style>\n",
       "<table border=\"1\" class=\"dataframe\">\n",
       "  <thead>\n",
       "    <tr style=\"text-align: right;\">\n",
       "      <th></th>\n",
       "      <th>SYS_NAME</th>\n",
       "      <th>NAME</th>\n",
       "      <th>TARGET_ID</th>\n",
       "      <th>DESCRIPTION</th>\n",
       "      <th>ENTITY</th>\n",
       "      <th>VALUE</th>\n",
       "    </tr>\n",
       "  </thead>\n",
       "  <tbody>\n",
       "    <tr>\n",
       "      <th>2</th>\n",
       "      <td>财务管理系统</td>\n",
       "      <td>CWXT_DB</td>\n",
       "      <td>183</td>\n",
       "      <td>磁盘容量</td>\n",
       "      <td>C:\\</td>\n",
       "      <td>52323324.0</td>\n",
       "    </tr>\n",
       "    <tr>\n",
       "      <th>3</th>\n",
       "      <td>财务管理系统</td>\n",
       "      <td>CWXT_DB</td>\n",
       "      <td>183</td>\n",
       "      <td>磁盘容量</td>\n",
       "      <td>D:\\</td>\n",
       "      <td>157283328.0</td>\n",
       "    </tr>\n",
       "  </tbody>\n",
       "</table>\n",
       "</div>"
      ],
      "text/plain": [
       "  SYS_NAME     NAME  TARGET_ID DESCRIPTION ENTITY        VALUE\n",
       "2   财务管理系统  CWXT_DB        183        磁盘容量    C:\\   52323324.0\n",
       "3   财务管理系统  CWXT_DB        183        磁盘容量    D:\\  157283328.0"
      ]
     },
     "execution_count": 6,
     "metadata": {},
     "output_type": "execute_result"
    }
   ],
   "source": [
    "#磁盘容量不变，提取并去重\n",
    "dis_capacity=dis_data.loc[dis_data['TARGET_ID']==183,['SYS_NAME','NAME','TARGET_ID','DESCRIPTION','ENTITY','VALUE']].drop_duplicates()\n",
    "dis_capacity.head()"
   ]
  },
  {
   "cell_type": "code",
   "execution_count": 14,
   "metadata": {},
   "outputs": [
    {
     "data": {
      "text/plain": [
       "array([184, 183], dtype=int64)"
      ]
     },
     "execution_count": 14,
     "metadata": {},
     "output_type": "execute_result"
    }
   ],
   "source": [
    "dis_data['TARGET_ID'].unique()"
   ]
  },
  {
   "cell_type": "code",
   "execution_count": 83,
   "metadata": {},
   "outputs": [],
   "source": [
    "dis_use=dis_data.loc[dis_data['TARGET_ID']==184]\n",
    "dis_use_t=dis_use.pivot(index='COLLECTTIME',columns='ENTITY',values='VALUE').reset_index()"
   ]
  },
  {
   "cell_type": "code",
   "execution_count": 27,
   "metadata": {},
   "outputs": [
    {
     "data": {
      "text/html": [
       "<div>\n",
       "<style scoped>\n",
       "    .dataframe tbody tr th:only-of-type {\n",
       "        vertical-align: middle;\n",
       "    }\n",
       "\n",
       "    .dataframe tbody tr th {\n",
       "        vertical-align: top;\n",
       "    }\n",
       "\n",
       "    .dataframe thead th {\n",
       "        text-align: right;\n",
       "    }\n",
       "</style>\n",
       "<table border=\"1\" class=\"dataframe\">\n",
       "  <thead>\n",
       "    <tr style=\"text-align: right;\">\n",
       "      <th>ENTITY</th>\n",
       "      <th>COLLECTTIME</th>\n",
       "      <th>C:\\</th>\n",
       "      <th>D:\\</th>\n",
       "    </tr>\n",
       "  </thead>\n",
       "  <tbody>\n",
       "    <tr>\n",
       "      <th>0</th>\n",
       "      <td>2014-10-01</td>\n",
       "      <td>34270787.33</td>\n",
       "      <td>80262592.65</td>\n",
       "    </tr>\n",
       "    <tr>\n",
       "      <th>1</th>\n",
       "      <td>2014-10-02</td>\n",
       "      <td>34328899.02</td>\n",
       "      <td>83200151.65</td>\n",
       "    </tr>\n",
       "    <tr>\n",
       "      <th>2</th>\n",
       "      <td>2014-10-03</td>\n",
       "      <td>34327553.50</td>\n",
       "      <td>83208320.00</td>\n",
       "    </tr>\n",
       "    <tr>\n",
       "      <th>3</th>\n",
       "      <td>2014-10-04</td>\n",
       "      <td>34288672.21</td>\n",
       "      <td>83099271.65</td>\n",
       "    </tr>\n",
       "    <tr>\n",
       "      <th>4</th>\n",
       "      <td>2014-10-05</td>\n",
       "      <td>34190978.41</td>\n",
       "      <td>82765171.65</td>\n",
       "    </tr>\n",
       "  </tbody>\n",
       "</table>\n",
       "</div>"
      ],
      "text/plain": [
       "ENTITY COLLECTTIME          C:\\          D:\\\n",
       "0       2014-10-01  34270787.33  80262592.65\n",
       "1       2014-10-02  34328899.02  83200151.65\n",
       "2       2014-10-03  34327553.50  83208320.00\n",
       "3       2014-10-04  34288672.21  83099271.65\n",
       "4       2014-10-05  34190978.41  82765171.65"
      ]
     },
     "execution_count": 27,
     "metadata": {},
     "output_type": "execute_result"
    }
   ],
   "source": [
    "dis_use_t.head()"
   ]
  },
  {
   "cell_type": "code",
   "execution_count": 26,
   "metadata": {},
   "outputs": [
    {
     "data": {
      "text/plain": [
       "47"
      ]
     },
     "execution_count": 26,
     "metadata": {},
     "output_type": "execute_result"
    }
   ],
   "source": [
    "len(dis_use_t)"
   ]
  },
  {
   "cell_type": "code",
   "execution_count": 20,
   "metadata": {},
   "outputs": [
    {
     "data": {
      "text/html": [
       "<div>\n",
       "<style scoped>\n",
       "    .dataframe tbody tr th:only-of-type {\n",
       "        vertical-align: middle;\n",
       "    }\n",
       "\n",
       "    .dataframe tbody tr th {\n",
       "        vertical-align: top;\n",
       "    }\n",
       "\n",
       "    .dataframe thead th {\n",
       "        text-align: right;\n",
       "    }\n",
       "</style>\n",
       "<table border=\"1\" class=\"dataframe\">\n",
       "  <thead>\n",
       "    <tr style=\"text-align: right;\">\n",
       "      <th></th>\n",
       "      <th>COLLECTTIME</th>\n",
       "      <th>ENTITY</th>\n",
       "      <th>TARGET_ID</th>\n",
       "      <th>VALUE</th>\n",
       "    </tr>\n",
       "  </thead>\n",
       "  <tbody>\n",
       "    <tr>\n",
       "      <th>0</th>\n",
       "      <td>2014-10-01</td>\n",
       "      <td>C:\\</td>\n",
       "      <td>184</td>\n",
       "      <td>34270787.33</td>\n",
       "    </tr>\n",
       "    <tr>\n",
       "      <th>1</th>\n",
       "      <td>2014-10-01</td>\n",
       "      <td>D:\\</td>\n",
       "      <td>184</td>\n",
       "      <td>80262592.65</td>\n",
       "    </tr>\n",
       "    <tr>\n",
       "      <th>2</th>\n",
       "      <td>2014-10-02</td>\n",
       "      <td>C:\\</td>\n",
       "      <td>184</td>\n",
       "      <td>34328899.02</td>\n",
       "    </tr>\n",
       "    <tr>\n",
       "      <th>3</th>\n",
       "      <td>2014-10-02</td>\n",
       "      <td>D:\\</td>\n",
       "      <td>184</td>\n",
       "      <td>83200151.65</td>\n",
       "    </tr>\n",
       "    <tr>\n",
       "      <th>4</th>\n",
       "      <td>2014-10-03</td>\n",
       "      <td>C:\\</td>\n",
       "      <td>184</td>\n",
       "      <td>34327553.50</td>\n",
       "    </tr>\n",
       "  </tbody>\n",
       "</table>\n",
       "</div>"
      ],
      "text/plain": [
       "  COLLECTTIME ENTITY  TARGET_ID        VALUE\n",
       "0  2014-10-01    C:\\        184  34270787.33\n",
       "1  2014-10-01    D:\\        184  80262592.65\n",
       "2  2014-10-02    C:\\        184  34328899.02\n",
       "3  2014-10-02    D:\\        184  83200151.65\n",
       "4  2014-10-03    C:\\        184  34327553.50"
      ]
     },
     "execution_count": 20,
     "metadata": {},
     "output_type": "execute_result"
    }
   ],
   "source": [
    "#=====改进表格准换方法=========\n",
    "#这里由于每个磁盘在一个时间只统计一次，所以直接用上述pivot函数没有问题\n",
    "#但如果同一时间统计多次，就需要先按统计时间进行分组求和，再变换表格\n",
    "group=dis_use.groupby(['COLLECTTIME','ENTITY'])\n",
    "dis_use_1=group.sum().reset_index()\n",
    "dis_use_1.head()"
   ]
  },
  {
   "cell_type": "code",
   "execution_count": 25,
   "metadata": {},
   "outputs": [
    {
     "data": {
      "text/html": [
       "<div>\n",
       "<style scoped>\n",
       "    .dataframe tbody tr th:only-of-type {\n",
       "        vertical-align: middle;\n",
       "    }\n",
       "\n",
       "    .dataframe tbody tr th {\n",
       "        vertical-align: top;\n",
       "    }\n",
       "\n",
       "    .dataframe thead th {\n",
       "        text-align: right;\n",
       "    }\n",
       "</style>\n",
       "<table border=\"1\" class=\"dataframe\">\n",
       "  <thead>\n",
       "    <tr style=\"text-align: right;\">\n",
       "      <th>ENTITY</th>\n",
       "      <th>COLLECTTIME</th>\n",
       "      <th>C:\\</th>\n",
       "      <th>D:\\</th>\n",
       "    </tr>\n",
       "  </thead>\n",
       "  <tbody>\n",
       "    <tr>\n",
       "      <th>0</th>\n",
       "      <td>2014-10-01</td>\n",
       "      <td>34270787.33</td>\n",
       "      <td>80262592.65</td>\n",
       "    </tr>\n",
       "    <tr>\n",
       "      <th>1</th>\n",
       "      <td>2014-10-02</td>\n",
       "      <td>34328899.02</td>\n",
       "      <td>83200151.65</td>\n",
       "    </tr>\n",
       "    <tr>\n",
       "      <th>2</th>\n",
       "      <td>2014-10-03</td>\n",
       "      <td>34327553.50</td>\n",
       "      <td>83208320.00</td>\n",
       "    </tr>\n",
       "    <tr>\n",
       "      <th>3</th>\n",
       "      <td>2014-10-04</td>\n",
       "      <td>34288672.21</td>\n",
       "      <td>83099271.65</td>\n",
       "    </tr>\n",
       "    <tr>\n",
       "      <th>4</th>\n",
       "      <td>2014-10-05</td>\n",
       "      <td>34190978.41</td>\n",
       "      <td>82765171.65</td>\n",
       "    </tr>\n",
       "  </tbody>\n",
       "</table>\n",
       "</div>"
      ],
      "text/plain": [
       "ENTITY COLLECTTIME          C:\\          D:\\\n",
       "0       2014-10-01  34270787.33  80262592.65\n",
       "1       2014-10-02  34328899.02  83200151.65\n",
       "2       2014-10-03  34327553.50  83208320.00\n",
       "3       2014-10-04  34288672.21  83099271.65\n",
       "4       2014-10-05  34190978.41  82765171.65"
      ]
     },
     "execution_count": 25,
     "metadata": {},
     "output_type": "execute_result"
    }
   ],
   "source": [
    "dis_use_1=dis_use_1.pivot(index='COLLECTTIME',columns='ENTITY',values='VALUE').reset_index()\n",
    "dis_use_1.head()"
   ]
  },
  {
   "cell_type": "code",
   "execution_count": 28,
   "metadata": {},
   "outputs": [
    {
     "data": {
      "text/plain": [
       "47"
      ]
     },
     "execution_count": 28,
     "metadata": {},
     "output_type": "execute_result"
    }
   ],
   "source": [
    "len(dis_use_1)"
   ]
  },
  {
   "cell_type": "code",
   "execution_count": 42,
   "metadata": {},
   "outputs": [],
   "source": [
    "dis_use_t.columns=['COLLECTTIME','C_used','D_used']\n",
    "dis_use_t.to_csv('dis_used.csv',index=False)"
   ]
  },
  {
   "cell_type": "markdown",
   "metadata": {},
   "source": [
    "# 平稳性检验"
   ]
  },
  {
   "cell_type": "code",
   "execution_count": 85,
   "metadata": {},
   "outputs": [
    {
     "data": {
      "image/png": "[encoded data removed]",
      "text/plain": [
       "<matplotlib.figure.Figure at 0xc8092e8>"
      ]
     },
     "metadata": {
      "needs_background": "light"
     },
     "output_type": "display_data"
    }
   ],
   "source": [
    "dis_use_t=pd.read_csv('dis_used.csv')\n",
    "dis_use_train=dis_use_t.iloc[:len(dis_use_t)-5]#将后5行数据留作验证集\n",
    "#根据时序图可以看出C盘和D盘的使用容量均不是平稳的\n",
    "import matplotlib.pyplot as plt\n",
    "dis_use_train[['C_used']].plot(style=['r-o'])\n",
    "plt.show()"
   ]
  },
  {
   "cell_type": "code",
   "execution_count": 50,
   "metadata": {},
   "outputs": [
    {
     "data": {
      "text/plain": [
       "<function matplotlib.pyplot.show>"
      ]
     },
     "execution_count": 50,
     "metadata": {},
     "output_type": "execute_result"
    },
    {
     "data": {
      "image/png": "[encoded data removed]",
      "text/plain": [
       "<matplotlib.figure.Figure at 0x12273c88>"
      ]
     },
     "metadata": {
      "needs_background": "light"
     },
     "output_type": "display_data"
    }
   ],
   "source": [
    "dis_use_train[['D_used']].plot(style=['r-o'])\n",
    "plt.show"
   ]
  },
  {
   "cell_type": "code",
   "execution_count": 53,
   "metadata": {},
   "outputs": [],
   "source": [
    "from statsmodels.tsa.stattools import adfuller as ADF\n",
    "def smooth_test(time_data):\n",
    "    diff=0\n",
    "    adf=ADF(time_data)#单位根检验\n",
    "    while adf[1]>=0.05:#p值（adf[1]）小于0.05，则认为是平稳的[原假设p-1=0,其中xt+1=(p-1)xt+u,若p为1z则为随机游走，不平稳]\n",
    "        diff=diff+1\n",
    "        adf=ADF(time_data.diff(diff).dropna())\n",
    "    print('原始序列经过%s阶差分后平稳，p值为%s' %(diff,adf[1]))"
   ]
  },
  {
   "cell_type": "code",
   "execution_count": 56,
   "metadata": {},
   "outputs": [
    {
     "name": "stdout",
     "output_type": "stream",
     "text": [
      "原始序列经过1阶差分后平稳，p值为9.57297559233316e-07\n",
      "原始序列经过1阶差分后平稳，p值为4.792591263393756e-07\n"
     ]
    }
   ],
   "source": [
    "#C盘和D盘均经过一阶差分后平稳\n",
    "smooth_test(dis_use_train['C_used'])\n",
    "smooth_test(dis_use_train['D_used'])"
   ]
  },
  {
   "cell_type": "code",
   "execution_count": 57,
   "metadata": {},
   "outputs": [
    {
     "data": {
      "text/plain": [
       "<function matplotlib.pyplot.show>"
      ]
     },
     "execution_count": 57,
     "metadata": {},
     "output_type": "execute_result"
    },
    {
     "data": {
      "image/png": "[encoded data removed]",
      "text/plain": [
       "<matplotlib.figure.Figure at 0x10bea160>"
      ]
     },
     "metadata": {
      "needs_background": "light"
     },
     "output_type": "display_data"
    }
   ],
   "source": [
    "#C盘一阶差分后时序图：除了几个异常点外，其他平稳\n",
    "dis_use_train[['C_used']].diff(1).plot(style=['r-o'])\n",
    "plt.show"
   ]
  },
  {
   "cell_type": "code",
   "execution_count": 58,
   "metadata": {},
   "outputs": [
    {
     "data": {
      "text/plain": [
       "<function matplotlib.pyplot.show>"
      ]
     },
     "execution_count": 58,
     "metadata": {},
     "output_type": "execute_result"
    },
    {
     "data": {
      "image/png": "[encoded data removed]",
      "text/plain": [
       "<matplotlib.figure.Figure at 0x1227e0b8>"
      ]
     },
     "metadata": {
      "needs_background": "light"
     },
     "output_type": "display_data"
    }
   ],
   "source": [
    "#D盘一阶差分后时序图\n",
    "dis_use_train[['D_used']].diff(1).plot(style=['r-o'])\n",
    "plt.show"
   ]
  },
  {
   "cell_type": "markdown",
   "metadata": {},
   "source": [
    "# 白噪声检验（数据之间是否相互独立）"
   ]
  },
  {
   "cell_type": "code",
   "execution_count": 67,
   "metadata": {},
   "outputs": [],
   "source": [
    "from statsmodels.stats.diagnostic import acorr_ljungbox\n",
    "def diagnoise_test(time_data):\n",
    "    [[lb],[p]]=acorr_ljungbox(time_data,lags=1)#原假设序列值之间相互独立\n",
    "    if p<0.05:\n",
    "        print('序列不是白噪声序列，对应p值为%s' %p)#拒绝原假设，序列之间存在相关性\n",
    "    else:\n",
    "        print('序列为白噪声序列，对应p值为%s' %p)"
   ]
  },
  {
   "cell_type": "code",
   "execution_count": 9,
   "metadata": {},
   "outputs": [
    {
     "name": "stdout",
     "output_type": "stream",
     "text": [
      "序列不是白噪声序列，对应p值为1.0609907508070775e-08\n"
     ]
    }
   ],
   "source": [
    "diagnoise_test(dis_use_train['C_used'].dropna(),lag=1)#C盘一阶滞后序列不是白噪声，可以用时间序列模型"
   ]
  },
  {
   "cell_type": "code",
   "execution_count": 10,
   "metadata": {},
   "outputs": [
    {
     "name": "stdout",
     "output_type": "stream",
     "text": [
      "序列不是白噪声序列，对应p值为9.95850372977218e-06\n"
     ]
    }
   ],
   "source": [
    "diagnoise_test(dis_use_train['D_used'].dropna(),lag=1)#D盘一阶滞后序列不是白噪声，可以用时间序列模型"
   ]
  },
  {
   "cell_type": "markdown",
   "metadata": {},
   "source": [
    "# ARIMA模型识别"
   ]
  },
  {
   "cell_type": "code",
   "execution_count": 13,
   "metadata": {},
   "outputs": [],
   "source": [
    "import statsmodels.api as sm\n",
    "#根据自相关图识别截断点\n",
    "def acf_pacf_fig(time_data):\n",
    "    fig=plt.figure(figsize=(12,5))\n",
    "    ax1=fig.add_subplot(211)\n",
    "    fig=sm.graphics.tsa.plot_acf(time_data,lags=40,ax=ax1)\n",
    "    ax2=fig.add_subplot(212)\n",
    "    fig=sm.graphics.tsa.plot_pacf(time_data,lags=40,ax=ax2)\n",
    "    fig.show()"
   ]
  },
  {
   "cell_type": "code",
   "execution_count": 15,
   "metadata": {},
   "outputs": [
    {
     "name": "stderr",
     "output_type": "stream",
     "text": [
      "E:\\Software\\anaconda\\lib\\site-packages\\matplotlib\\figure.py:418: UserWarning: matplotlib is currently using a non-GUI backend, so cannot show the figure\n",
      "  \"matplotlib is currently using a non-GUI backend, \"\n"
     ]
    },
    {
     "data": {
      "image/png": "[encoded data removed]",
      "text/plain": [
       "<matplotlib.figure.Figure at 0xb892e48>"
      ]
     },
     "metadata": {
      "needs_background": "light"
     },
     "output_type": "display_data"
    }
   ],
   "source": [
    "acf_pacf_fig(dis_use_train['C_used'].diff(1).dropna())#观察图形，可以看出C盘一阶差分数据适合采用AR（1），但偏自相关系数有反复现象，移动平均模型不能使用？"
   ]
  },
  {
   "cell_type": "code",
   "execution_count": 16,
   "metadata": {},
   "outputs": [
    {
     "name": "stderr",
     "output_type": "stream",
     "text": [
      "E:\\Software\\anaconda\\lib\\site-packages\\matplotlib\\figure.py:418: UserWarning: matplotlib is currently using a non-GUI backend, so cannot show the figure\n",
      "  \"matplotlib is currently using a non-GUI backend, \"\n"
     ]
    },
    {
     "data": {
      "image/png": "[encoded data removed]",
      "text/plain": [
       "<matplotlib.figure.Figure at 0xc03e630>"
      ]
     },
     "metadata": {
      "needs_background": "light"
     },
     "output_type": "display_data"
    }
   ],
   "source": [
    "acf_pacf_fig(dis_use_train['D_used'].diff(1).dropna())#观察图形，可以看出D盘一阶差分数据适合采用AR（1）、MA（1）、ARMIA（1，1）"
   ]
  },
  {
   "cell_type": "code",
   "execution_count": 70,
   "metadata": {},
   "outputs": [],
   "source": [
    "dis_use_train.index=dis_use_train['COLLECTTIME']#将时间作为索引，否则函数报错（没有时间）\n",
    "#使用信息准则识别\n",
    "from statsmodels.tsa.arima_model import ARIMA\n",
    "def identify_model(time_data):\n",
    "    pmax=int(len(time_data)/10)#一般阶数不能超过数据量的1/10\n",
    "    qmax=int(len(time_data)/10)\n",
    "\n",
    "    bic_matrix=[]\n",
    "    aic_matrix=[]\n",
    "    hqic_matrix=[]\n",
    "    #循环寻找bic参数最优的p，q值\n",
    "    for p in range(pmax+1):\n",
    "        tmp1=[]\n",
    "        tmp2=[]\n",
    "        tmp3=[]\n",
    "        for q in range(qmax+1):\n",
    "            try:\n",
    "                tmp1.append(ARIMA(time_data,(p,1,q)).fit().bic)\n",
    "            except:\n",
    "                tmp1.append(None)\n",
    "            try:\n",
    "                tmp2.append(ARIMA(time_data,(p,1,q)).fit().aic)\n",
    "            except:\n",
    "                tmp2.append(None)\n",
    "            try:\n",
    "                tmp3.append(ARIMA(time_data,(p,1,q)).fit().hqic)\n",
    "            except:\n",
    "                tmp3.append(None)\n",
    "        bic_matrix.append(tmp1)\n",
    "        aic_matrix.append(tmp2)\n",
    "        hqic_matrix.append(tmp3)\n",
    "    bic_matrix=pd.DataFrame(bic_matrix)\n",
    "    aic_matrix=pd.DataFrame(aic_matrix)\n",
    "    hqic_matrix=pd.DataFrame(hqic_matrix)\n",
    "    p1,q1=bic_matrix.stack().astype('float64').idxmin()#先将bic_matrix展平，在用idxmin找出bic最小的p、q值\n",
    "    p2,q2=aic_matrix.stack().astype('float64').idxmin()#先将bic_matrix展平，在用idxmin找出bic最小的p、q值\n",
    "    p3,q3=hqic_matrix.stack().astype('float64').idxmin()#先将bic_matrix展平，在用idxmin找出bic最小的p、q值\n",
    "    print('bic最小时，p和q值分别是%s、%s;aic最小时，p和q值分别是%s、%s;hqic最小时，p和q值分别是%s、%s' %(p1,q1,p2,q2,p3,q3))"
   ]
  },
  {
   "cell_type": "code",
   "execution_count": 71,
   "metadata": {},
   "outputs": [
    {
     "name": "stdout",
     "output_type": "stream",
     "text": [
      "bic最小时，p和q值分别是0、0;aic最小时，p和q值分别是0、3;hqic最小时，p和q值分别是0、3\n"
     ]
    }
   ],
   "source": [
    "identify_model(dis_use_train['C_used'])#若用bic准则，C盘数据不适合用arima模型，q和q均为0；用aic和hqic准则，应为arima(0,1,3)"
   ]
  },
  {
   "cell_type": "code",
   "execution_count": 72,
   "metadata": {},
   "outputs": [
    {
     "name": "stdout",
     "output_type": "stream",
     "text": [
      "bic最小时，p和q值分别是1、1;aic最小时，p和q值分别是0、3;hqic最小时，p和q值分别是1、1\n"
     ]
    }
   ],
   "source": [
    "identify_model(dis_use_train['D_used'])#D盘数据p和q应为1和1"
   ]
  },
  {
   "cell_type": "markdown",
   "metadata": {},
   "source": [
    "# 模型检验（残差是否为白噪声）"
   ]
  },
  {
   "cell_type": "markdown",
   "metadata": {},
   "source": [
    "C盘：ARIMA（0,1,3）；D盘ARIMA（0,1,3）或者ARIMA（1,1,1）"
   ]
  },
  {
   "cell_type": "markdown",
   "metadata": {},
   "source": [
    "法一：德宾-沃森（Durbin-Watson）检验。德宾-沃森检验,简称D-W检验，是目前检验自相关性最常用的方法，但它只使用于检验一阶自相关性。因为自相关系数ρ的值介于-1和1之间，所以:\n",
    "\n",
    "0≤DW≤４。并且DW＝O＝＞ρ＝１　　 即存在正自相关性\n",
    "DW＝４＜＝＞ρ＝－１　即存在负自相关性\n",
    "DW＝２＜＝＞ρ＝０　　即不存在（一阶）自相关性\n",
    "因此，当DW值显著的接近于0或４时，则存在自相关性，而接近于2时，则不存在（一阶）自相关性。这样只要知道ＤＷ统计量的概率分布，在给定的显著水平下，根据临界值的位置就可以对原假设H0进行检验。"
   ]
  },
  {
   "cell_type": "markdown",
   "metadata": {},
   "source": [
    "法二：观察是否符合正态分布\n",
    "用QQ图，它用于直观验证一组数据是否来自某个分布，或者验证某两组数据是否来自同一（族）分布。在教学和软件中常用的是检验数据是否来自于正态分布。"
   ]
  },
  {
   "cell_type": "markdown",
   "metadata": {},
   "source": [
    "法三：python的acorr_ljungbox函数"
   ]
  },
  {
   "cell_type": "code",
   "execution_count": 138,
   "metadata": {},
   "outputs": [],
   "source": [
    "?acorr_ljungbox"
   ]
  },
  {
   "cell_type": "code",
   "execution_count": 73,
   "metadata": {},
   "outputs": [
    {
     "name": "stdout",
     "output_type": "stream",
     "text": [
      "序列为白噪声序列，对应p值为0.9013070981135178\n"
     ]
    }
   ],
   "source": [
    "#C盘数据：arima(0,1,3)模型\n",
    "arima_C=ARIMA(dis_use_train['C_used'],(0,1,3)).fit()#模型训练\n",
    "predict_C=arima_C.predict(typ='levels')#预测\n",
    "error_C=(predict_C-dis_use_train['C_used']).dropna()#计算残差\n",
    "diagnoise_test(error_C)#残差序列为白噪声，模型通过检验"
   ]
  },
  {
   "cell_type": "code",
   "execution_count": 74,
   "metadata": {},
   "outputs": [
    {
     "name": "stdout",
     "output_type": "stream",
     "text": [
      "序列为白噪声序列，对应p值为0.6698350964894465\n"
     ]
    }
   ],
   "source": [
    "#D盘数据：arima(1,1,1)模型\n",
    "arima_d1=ARIMA(dis_use_train['D_used'],(1,1,1)).fit()#模型训练\n",
    "predict_d1=arima_d1.predict(typ='levels')#预测\n",
    "error_d1=(predict_d1-dis_use_train['D_used']).dropna()#计算残差\n",
    "diagnoise_test(error_d1)#残差序列为白噪声，模型通过检验"
   ]
  },
  {
   "cell_type": "code",
   "execution_count": 75,
   "metadata": {},
   "outputs": [
    {
     "name": "stdout",
     "output_type": "stream",
     "text": [
      "序列为白噪声序列，对应p值为0.9541607334741714\n"
     ]
    }
   ],
   "source": [
    "#D盘数据：arima(0,1,3)模型\n",
    "arima_d2=ARIMA(dis_use_train['D_used'],(0,1,3)).fit()#模型训练\n",
    "predict_d2=arima_d2.predict(typ='levels')#预测\n",
    "error_d2=(predict_d2-dis_use_train['D_used']).dropna()#计算残差\n",
    "diagnoise_test(error_d2)#残差序列为白噪声，模型通过检验"
   ]
  },
  {
   "cell_type": "code",
   "execution_count": null,
   "metadata": {},
   "outputs": [],
   "source": [
    "#DW检验\n",
    "print(sm.stats.durbin_watson(arima_C.resid.values))\n",
    "print(sm.stats.durbin_watson(arima_d1.resid.values))\n",
    "print(sm.stats.durbin_watson(arima_d2.resid.values))"
   ]
  },
  {
   "cell_type": "code",
   "execution_count": null,
   "metadata": {},
   "outputs": [],
   "source": [
    "#QQ图\n",
    "qqplot(arima_C.resid, line='q', fit=True)\n",
    "plt.show()"
   ]
  },
  {
   "cell_type": "markdown",
   "metadata": {},
   "source": [
    "# 模型预测"
   ]
  },
  {
   "cell_type": "code",
   "execution_count": 110,
   "metadata": {},
   "outputs": [
    {
     "name": "stdout",
     "output_type": "stream",
     "text": [
      "<class 'pandas.core.frame.DataFrame'>\n",
      "RangeIndex: 47 entries, 0 to 46\n",
      "Data columns (total 4 columns):\n",
      "COLLECTTIME    47 non-null datetime64[ns]\n",
      "C_used         47 non-null float64\n",
      "D_used         47 non-null float64\n",
      "pred           0 non-null float64\n",
      "dtypes: datetime64[ns](1), float64(3)\n",
      "memory usage: 1.5 KB\n"
     ]
    }
   ],
   "source": [
    "dis_use_t.info()"
   ]
  },
  {
   "cell_type": "code",
   "execution_count": 130,
   "metadata": {},
   "outputs": [],
   "source": [
    "?arima.predict#根据起始时间进行预测"
   ]
  },
  {
   "cell_type": "code",
   "execution_count": 131,
   "metadata": {},
   "outputs": [
    {
     "data": {
      "text/plain": [
       "2014-11-12    3.577997e+07\n",
       "2014-11-13    3.583694e+07\n",
       "2014-11-14    3.588960e+07\n",
       "2014-11-15    3.593543e+07\n",
       "2014-11-16    3.598126e+07\n",
       "dtype: float64"
      ]
     },
     "execution_count": 131,
     "metadata": {},
     "output_type": "execute_result"
    }
   ],
   "source": [
    "#C盘\n",
    "c_pred_last=arima_C.predict(start='2014-11-12',end='2014-11-16',typ='levels')#预测\n",
    "c_predict_final=predict_C.append(c_pred_last)\n",
    "c_predict_final[len(c_predict_final)-5:]"
   ]
  },
  {
   "cell_type": "code",
   "execution_count": 132,
   "metadata": {},
   "outputs": [
    {
     "data": {
      "text/plain": [
       "2014-11-12    8.764336e+07\n",
       "2014-11-13    8.769776e+07\n",
       "2014-11-14    8.781214e+07\n",
       "2014-11-15    8.794838e+07\n",
       "2014-11-16    8.809259e+07\n",
       "dtype: float64"
      ]
     },
     "execution_count": 132,
     "metadata": {},
     "output_type": "execute_result"
    }
   ],
   "source": [
    "#D盘ARIMA（1,1,1）\n",
    "d_pred_last_1=arima.predict(start='2014-11-12',end='2014-11-16',typ='levels')#预测\n",
    "d_predict_final_1=predict_d1.append(d_pred_last_1)\n",
    "d_predict_final_1[len(d_predict_final_1)-5:]"
   ]
  },
  {
   "cell_type": "code",
   "execution_count": 133,
   "metadata": {},
   "outputs": [
    {
     "data": {
      "text/plain": [
       "2014-11-12    8.736074e+07\n",
       "2014-11-13    8.726128e+07\n",
       "2014-11-14    8.726070e+07\n",
       "2014-11-15    8.738481e+07\n",
       "2014-11-16    8.750893e+07\n",
       "dtype: float64"
      ]
     },
     "execution_count": 133,
     "metadata": {},
     "output_type": "execute_result"
    }
   ],
   "source": [
    "#D盘ARIMA（0,1,3）\n",
    "d_pred_last_2=arima_1.predict(start='2014-11-12',end='2014-11-16',typ='levels')#预测\n",
    "d_predict_final_2=predict_d2.append(d_pred_last_2)\n",
    "d_predict_final_2[len(d_predict_final_2)-5:]"
   ]
  },
  {
   "cell_type": "markdown",
   "metadata": {},
   "source": [
    "# 模型评价"
   ]
  },
  {
   "cell_type": "code",
   "execution_count": 101,
   "metadata": {},
   "outputs": [
    {
     "data": {
      "text/html": [
       "<div>\n",
       "<style scoped>\n",
       "    .dataframe tbody tr th:only-of-type {\n",
       "        vertical-align: middle;\n",
       "    }\n",
       "\n",
       "    .dataframe tbody tr th {\n",
       "        vertical-align: top;\n",
       "    }\n",
       "\n",
       "    .dataframe thead th {\n",
       "        text-align: right;\n",
       "    }\n",
       "</style>\n",
       "<table border=\"1\" class=\"dataframe\">\n",
       "  <thead>\n",
       "    <tr style=\"text-align: right;\">\n",
       "      <th></th>\n",
       "      <th>COLLECTTIME</th>\n",
       "      <th>C_used</th>\n",
       "      <th>D_used</th>\n",
       "    </tr>\n",
       "    <tr>\n",
       "      <th>COLLECTTIME</th>\n",
       "      <th></th>\n",
       "      <th></th>\n",
       "      <th></th>\n",
       "    </tr>\n",
       "  </thead>\n",
       "  <tbody>\n",
       "    <tr>\n",
       "      <th>2014-10-01</th>\n",
       "      <td>2014-10-01</td>\n",
       "      <td>34270787.33</td>\n",
       "      <td>80262592.65</td>\n",
       "    </tr>\n",
       "    <tr>\n",
       "      <th>2014-10-02</th>\n",
       "      <td>2014-10-02</td>\n",
       "      <td>34328899.02</td>\n",
       "      <td>83200151.65</td>\n",
       "    </tr>\n",
       "    <tr>\n",
       "      <th>2014-10-03</th>\n",
       "      <td>2014-10-03</td>\n",
       "      <td>34327553.50</td>\n",
       "      <td>83208320.00</td>\n",
       "    </tr>\n",
       "    <tr>\n",
       "      <th>2014-10-04</th>\n",
       "      <td>2014-10-04</td>\n",
       "      <td>34288672.21</td>\n",
       "      <td>83099271.65</td>\n",
       "    </tr>\n",
       "    <tr>\n",
       "      <th>2014-10-05</th>\n",
       "      <td>2014-10-05</td>\n",
       "      <td>34190978.41</td>\n",
       "      <td>82765171.65</td>\n",
       "    </tr>\n",
       "  </tbody>\n",
       "</table>\n",
       "</div>"
      ],
      "text/plain": [
       "            COLLECTTIME       C_used       D_used\n",
       "COLLECTTIME                                      \n",
       "2014-10-01   2014-10-01  34270787.33  80262592.65\n",
       "2014-10-02   2014-10-02  34328899.02  83200151.65\n",
       "2014-10-03   2014-10-03  34327553.50  83208320.00\n",
       "2014-10-04   2014-10-04  34288672.21  83099271.65\n",
       "2014-10-05   2014-10-05  34190978.41  82765171.65"
      ]
     },
     "execution_count": 101,
     "metadata": {},
     "output_type": "execute_result"
    }
   ],
   "source": [
    "dis_use_t['COLLECTTIME']=pd.to_datetime(dis_use_t['COLLECTTIME'].astype(str),format='%Y-%m-%d')\n",
    "dis_use_t.index=dis_use_t['COLLECTTIME']\n",
    "dis_use_t.head()"
   ]
  },
  {
   "cell_type": "code",
   "execution_count": 134,
   "metadata": {},
   "outputs": [
    {
     "data": {
      "text/html": [
       "<div>\n",
       "<style scoped>\n",
       "    .dataframe tbody tr th:only-of-type {\n",
       "        vertical-align: middle;\n",
       "    }\n",
       "\n",
       "    .dataframe tbody tr th {\n",
       "        vertical-align: top;\n",
       "    }\n",
       "\n",
       "    .dataframe thead th {\n",
       "        text-align: right;\n",
       "    }\n",
       "</style>\n",
       "<table border=\"1\" class=\"dataframe\">\n",
       "  <thead>\n",
       "    <tr style=\"text-align: right;\">\n",
       "      <th></th>\n",
       "      <th>COLLECTTIME</th>\n",
       "      <th>C_used</th>\n",
       "      <th>D_used</th>\n",
       "      <th>C_pred</th>\n",
       "      <th>D_pred_1</th>\n",
       "      <th>D_pred_2</th>\n",
       "    </tr>\n",
       "    <tr>\n",
       "      <th>COLLECTTIME</th>\n",
       "      <th></th>\n",
       "      <th></th>\n",
       "      <th></th>\n",
       "      <th></th>\n",
       "      <th></th>\n",
       "      <th></th>\n",
       "    </tr>\n",
       "  </thead>\n",
       "  <tbody>\n",
       "    <tr>\n",
       "      <th>2014-11-12</th>\n",
       "      <td>2014-11-12</td>\n",
       "      <td>35704312.58</td>\n",
       "      <td>87249335.55</td>\n",
       "      <td>3.577997e+07</td>\n",
       "      <td>8.764336e+07</td>\n",
       "      <td>8.736074e+07</td>\n",
       "    </tr>\n",
       "    <tr>\n",
       "      <th>2014-11-13</th>\n",
       "      <td>2014-11-13</td>\n",
       "      <td>35704980.73</td>\n",
       "      <td>86986142.20</td>\n",
       "      <td>3.583694e+07</td>\n",
       "      <td>8.769776e+07</td>\n",
       "      <td>8.726128e+07</td>\n",
       "    </tr>\n",
       "    <tr>\n",
       "      <th>2014-11-14</th>\n",
       "      <td>2014-11-14</td>\n",
       "      <td>34570385.45</td>\n",
       "      <td>86678240.00</td>\n",
       "      <td>3.588960e+07</td>\n",
       "      <td>8.781214e+07</td>\n",
       "      <td>8.726070e+07</td>\n",
       "    </tr>\n",
       "    <tr>\n",
       "      <th>2014-11-15</th>\n",
       "      <td>2014-11-15</td>\n",
       "      <td>34673820.69</td>\n",
       "      <td>89766600.00</td>\n",
       "      <td>3.593543e+07</td>\n",
       "      <td>8.794838e+07</td>\n",
       "      <td>8.738481e+07</td>\n",
       "    </tr>\n",
       "    <tr>\n",
       "      <th>2014-11-16</th>\n",
       "      <td>2014-11-16</td>\n",
       "      <td>34793245.31</td>\n",
       "      <td>89377527.25</td>\n",
       "      <td>3.598126e+07</td>\n",
       "      <td>8.809259e+07</td>\n",
       "      <td>8.750893e+07</td>\n",
       "    </tr>\n",
       "  </tbody>\n",
       "</table>\n",
       "</div>"
      ],
      "text/plain": [
       "            COLLECTTIME       C_used       D_used        C_pred      D_pred_1  \\\n",
       "COLLECTTIME                                                                     \n",
       "2014-11-12   2014-11-12  35704312.58  87249335.55  3.577997e+07  8.764336e+07   \n",
       "2014-11-13   2014-11-13  35704980.73  86986142.20  3.583694e+07  8.769776e+07   \n",
       "2014-11-14   2014-11-14  34570385.45  86678240.00  3.588960e+07  8.781214e+07   \n",
       "2014-11-15   2014-11-15  34673820.69  89766600.00  3.593543e+07  8.794838e+07   \n",
       "2014-11-16   2014-11-16  34793245.31  89377527.25  3.598126e+07  8.809259e+07   \n",
       "\n",
       "                 D_pred_2  \n",
       "COLLECTTIME                \n",
       "2014-11-12   8.736074e+07  \n",
       "2014-11-13   8.726128e+07  \n",
       "2014-11-14   8.726070e+07  \n",
       "2014-11-15   8.738481e+07  \n",
       "2014-11-16   8.750893e+07  "
      ]
     },
     "execution_count": 134,
     "metadata": {},
     "output_type": "execute_result"
    }
   ],
   "source": [
    "dis_use_t['C_pred']=c_predict_final\n",
    "dis_use_t['D_pred_1']=d_predict_final_1\n",
    "dis_use_t['D_pred_2']=d_predict_final_2\n",
    "dis_use_t.tail()"
   ]
  },
  {
   "cell_type": "code",
   "execution_count": 106,
   "metadata": {},
   "outputs": [],
   "source": [
    "#计算三个效果指标：平均绝对误差、均方误差、平均百分比误差\n",
    "def evaluate(original,predict,c_d):\n",
    "    abs_=(original-predict).abs()\n",
    "    mae=abs_.mean()\n",
    "    rmse=((abs_**2).mean())**0.5\n",
    "    mape=(abs_/dis_use_t[c_d]).mean()\n",
    "    print('平均绝对误差、均方误差、平均百分比误差分别为:%0.4f,%0.4f,%0.6f' %(mae,rmse,mape))"
   ]
  },
  {
   "cell_type": "code",
   "execution_count": 135,
   "metadata": {},
   "outputs": [
    {
     "name": "stdout",
     "output_type": "stream",
     "text": [
      "平均绝对误差、均方误差、平均百分比误差分别为:237984.8594,427470.7866,0.006886\n",
      "平均绝对误差、均方误差、平均百分比误差分别为:846789.5976,1130839.2416,0.009974\n",
      "平均绝对误差、均方误差、平均百分比误差分别为:793275.9715,1128947.5176,0.009316\n"
     ]
    }
   ],
   "source": [
    "evaluate(dis_use_t['C_used'],dis_use_t['C_pred'],'C_used')\n",
    "#综合三个指数来看，D盘数据应采用ARIMA（0,1,3）\n",
    "evaluate(dis_use_t['D_used'],dis_use_t['D_pred_1'],'D_used')\n",
    "evaluate(dis_use_t['D_used'],dis_use_t['D_pred_2'],'D_used')"
   ]
  },
  {
   "cell_type": "code",
   "execution_count": 136,
   "metadata": {},
   "outputs": [
    {
     "data": {
      "image/png": "[encoded data removed]",
      "text/plain": [
       "<matplotlib.figure.Figure at 0x9a20828>"
      ]
     },
     "metadata": {
      "needs_background": "light"
     },
     "output_type": "display_data"
    }
   ],
   "source": [
    "dis_use_t[['C_used','C_pred']].plot(style=['r-o','g-*'])\n",
    "plt.show()#前期拟合地还行，但是后期预测阶段突发性变化表现差，主要是因为移动平均模型的滞后反应"
   ]
  },
  {
   "cell_type": "code",
   "execution_count": 137,
   "metadata": {},
   "outputs": [
    {
     "data": {
      "image/png": "[encoded data removed]",
      "text/plain": [
       "<matplotlib.figure.Figure at 0xd993ba8>"
      ]
     },
     "metadata": {
      "needs_background": "light"
     },
     "output_type": "display_data"
    }
   ],
   "source": [
    "dis_use_t[['D_used','D_pred_1','D_pred_2']].plot(style=['r-o','g-*','c-^'])\n",
    "plt.show()#两种模型前期几乎没有什么差别，后期ARIMA（0,1,3）低于ARIMA（1,1,1），虽然从评价指标上来看，前者比后者效果好，但从趋势上看，后者似乎更好"
   ]
  }
 ],
 "metadata": {
  "kernelspec": {
   "display_name": "Python 3",
   "language": "python",
   "name": "python3"
  },
  "language_info": {
   "codemirror_mode": {
    "name": "ipython",
    "version": 3
   },
   "file_extension": ".py",
   "mimetype": "text/x-python",
   "name": "python",
   "nbconvert_exporter": "python",
   "pygments_lexer": "ipython3",
   "version": "3.6.4"
  }
 },
 "nbformat": 4,
 "nbformat_minor": 2
}
